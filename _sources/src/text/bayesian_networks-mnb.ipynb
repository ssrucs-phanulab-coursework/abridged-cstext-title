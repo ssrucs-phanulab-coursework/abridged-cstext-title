{
 "cells": [
  {
   "cell_type": "markdown",
   "id": "ca01df19",
   "metadata": {
    "collapsed": true,
    "jupyter": {
     "outputs_hidden": true,
     "source_hidden": true
    },
    "slideshow": {
     "slide_type": "skip"
    },
    "tags": [
     "purge-cell"
    ]
   },
   "source": [
    "(sec:problog:md)="
   ]
  },
  {
   "cell_type": "markdown",
   "id": "eb8e8f1a",
   "metadata": {
    "slideshow": {
     "slide_type": "slide"
    }
   },
   "source": [
    "# Bayesian Networks (Markdown NB) #"
   ]
  },
  {
   "cell_type": "markdown",
   "id": "c4bdd106",
   "metadata": {
    "slideshow": {
     "slide_type": "skip"
    }
   },
   "source": [
    ":::{note}\n",
    "This page is based on the [*Bayesian networks*] ProbLog tutorial, which\n",
    "is executed from within Python using the [*ProbLog library*].\n",
    ":::\n",
    "\n",
    "[*Bayesian networks*]: https://dtai.cs.kuleuven.be/problog/tutorial/basic/02_bayes.html\n",
    "[*ProbLog library*]: https://dtai.cs.kuleuven.be/problog/tutorial/advanced/01_python_interface.html"
   ]
  },
  {
   "cell_type": "markdown",
   "id": "17e438d6",
   "metadata": {
    "collapsed": true,
    "jupyter": {
     "outputs_hidden": true,
     "source_hidden": true
    },
    "slideshow": {
     "slide_type": "skip"
    },
    "tags": [
     "purge-cell"
    ]
   },
   "source": [
    ":::{admonition} Content format\n",
    ":class: attention\n",
    "This page is written in the [*Markdown Notebook*] format.\n",
    "The ProbLog content is displayed with [`ipywidgets`].\n",
    "Alternatively, see the [Jupyter Notebook version][notebook] of the\n",
    "*Bayesian Networks* tutorial for an example of executing ProbLog code\n",
    "directly from Python; the [Percent Notebook version][percent] to see how\n",
    "ProbLog code can be executed with a bespoke\n",
    "[iPython cell magic command][magic]; or the\n",
    "[Markdown Notebook version][sp-markdown] based on the [Sphinx-ProbLog]\n",
    "extension, which uses *native*, interactive [ProbLog] code boxes.\n",
    "\n",
    "You can execute the code blocks enclosed below by launching this page as a\n",
    "Jupyter Notebook with MyBinder -- this option is available from the\n",
    "*Launch Menu* that appears after hovering the mouse cursor over the\n",
    "{fa}`rocket` icon shown in the top bar.\n",
    "Note that Google Colab execution environment is not available for pages\n",
    "written in the [*Markdown Notebook*] format.\n",
    "You can also **enable the widgets** to work directly on this page with\n",
    "[Thebe] by activating {fa}`play`&nbsp;*Live Code* from the\n",
    "{fa}`rocket`&nbsp;*Launch Menu*.\n",
    "\n",
    "<!--https://sphinx-panels.readthedocs.io/en/latest/#link-badgeshttps://sphinx-panels.readthedocs.io/en/latest/#link-badges-->\n",
    "<!--{link-badge}`https://problog-template.simply-logical.space/slides/bayesian_networks-mnb.slides.html,Static Slides,link,badge-info badge-pill text-white`-->\n",
    "In addition to this book page and the corresponding Jupyter Notebook,\n",
    "*static* and *interactive* [reveal.js] slides are built from the page source.\n",
    "The static slides can be accessed with the [Static Slides (Markdown NB)] link\n",
    "listed in the left panel (the table of content) or with this button\n",
    "[![View Slides][slides-badge]][slides-link].\n",
    "To launch the interactive version of the slides (with executable code boxes),\n",
    "you need to open this page as a Jupyter Notebook in Binder -- either via\n",
    "the {fa}`rocket`&nbsp;*Launch Menu* or using this button\n",
    "[![Open in Binder][binder-badge]][binder-link];\n",
    "then open [RISE] by clicking the {fa}`chart-bar` button located in the top bar\n",
    "of the Jupyter Notebook interface.\n",
    ":::\n",
    "\n",
    "[*Markdown Notebook*]: https://jupyterbook.org/file-types/myst-notebooks.html\n",
    "[`ipywidgets`]: https://ipywidgets.readthedocs.io/\n",
    "[notebook]: bayesian_networks-jnb\n",
    "[percent]: bayesian_networks-pnb\n",
    "[sp-markdown]: bayesian_networks-sp-mnb\n",
    "[Sphinx-ProbLog]: https://github.com/simply-logical/sphinx-problog\n",
    "[ProbLog]: https://dtai.cs.kuleuven.be/problog/\n",
    "[magic]: https://ipython.readthedocs.io/en/stable/interactive/magics.html#cell-magics\n",
    "[Thebe]: https://jupyterbook.org/interactive/launchbuttons.html#live-interactive-pages-with-thebelab\n",
    "[reveal.js]: https://github.com/hakimel/reveal.js/\n",
    "[Static Slides (Markdown NB)]: https://problog-template.simply-logical.space/slides/bayesian_networks-mnb.slides.html\n",
    "[binder-badge]: https://mybinder.org/badge_logo.svg\n",
    "[binder-link]: https://mybinder.org/v2/gh/simply-logical/problog-book-template/master?urlpath=tree/src/text/bayesian_networks-mnb.md\n",
    "[slides-badge]: https://img.shields.io/badge/view-slides-blue.svg\n",
    "[slides-link]: https://problog-template.simply-logical.space/slides/bayesian_networks-mnb.slides.html\n",
    "[RISE]: https://rise.readthedocs.io/en/stable/"
   ]
  },
  {
   "cell_type": "markdown",
   "id": "23595c52",
   "metadata": {
    "collapsed": true,
    "jupyter": {
     "outputs_hidden": true,
     "source_hidden": true
    },
    "slideshow": {
     "slide_type": "subslide"
    },
    "tags": [
     "remove-cell",
     "purge-cell"
    ]
   },
   "source": [
    ":::{note}\n",
    "These slides are also available as a [book page][bp1], which explains how to\n",
    "launch them as a Jupyter Notebook or interactive slides.\n",
    ":::\n",
    "\n",
    "[bp1]: .."
   ]
  },
  {
   "cell_type": "markdown",
   "id": "a4bf85c5",
   "metadata": {
    "collapsed": true,
    "jupyter": {
     "outputs_hidden": true,
     "source_hidden": true
    },
    "slideshow": {
     "slide_type": "skip"
    },
    "tags": [
     "remove-cell"
    ]
   },
   "source": [
    ":::{note}\n",
    "This Jupyter Notebook is also available as a [book page][bp2], which explains\n",
    "how to launch this content as *static* and *interactive* slides.\n",
    ":::\n",
    "\n",
    "[bp2]: .."
   ]
  },
  {
   "cell_type": "markdown",
   "id": "6253e71f",
   "metadata": {
    "collapsed": true,
    "jupyter": {
     "outputs_hidden": true,
     "source_hidden": true
    },
    "slideshow": {
     "slide_type": "skip"
    },
    "tags": [
     "purge-cell"
    ]
   },
   "source": [
    ":::{tip}\n",
    "This page includes a number of Python cells holding code needed to set up\n",
    "ProbLog ipywidgets.\n",
    "You can reveal their content by clicking the {fa}`plus-circle` buttons, which\n",
    "appear towards the right edge of this page.\n",
    ":::"
   ]
  },
  {
   "cell_type": "code",
   "execution_count": 1,
   "id": "41b2af86",
   "metadata": {
    "slideshow": {
     "slide_type": "skip"
    },
    "tags": [
     "hide-input",
     "thebe-init"
    ]
   },
   "outputs": [],
   "source": [
    "import matplotlib.pyplot as plt\n",
    "\n",
    "import ipywidgets as widgets\n",
    "from ipywidgets import Layout\n",
    "\n",
    "from problog.program import PrologString\n",
    "from problog import get_evaluatable"
   ]
  },
  {
   "cell_type": "code",
   "execution_count": 2,
   "id": "a01219d6",
   "metadata": {
    "slideshow": {
     "slide_type": "skip"
    },
    "tags": [
     "hide-input",
     "thebe-init"
    ]
   },
   "outputs": [],
   "source": [
    "def plot_outcome(pl_dict):\n",
    "    x = list(pl_dict.keys())\n",
    "    y = [pl_dict[key] for key in x]\n",
    "    x = [str(key) for key in x]\n",
    "    plt.barh(x, y, height=.5)\n",
    "    plt.xlim([0, 1.15])\n",
    "    plt.ylim([-.5, len(x) - .5])\n",
    "    for i, v in enumerate(y):\n",
    "        plt.text(v + .02, i + .0, '{:.2f}'.format(v), fontweight='bold')\n",
    "\n",
    "def get_widget(default_programme):\n",
    "    lines = default_programme.count('\\n') + 1\n",
    "    textbox = widgets.Textarea(\n",
    "        value=default_programme,\n",
    "        placeholder='ProbLog Programme',\n",
    "        # description='ProbLog Programme:',\n",
    "        layout=Layout(width='300px', height='{:d}px'.format(23 * lines)),\n",
    "        disabled=False\n",
    "    )\n",
    "    button = widgets.Button(\n",
    "        description='Evaluate',\n",
    "        # layout=Layout(margin='4px 0px 0px 90px'),\n",
    "        button_style='info'\n",
    "    )\n",
    "    out = widgets.Output()\n",
    "\n",
    "    def evaluate(obj):\n",
    "        problog_programme = textbox.value.strip()\n",
    "        if problog_programme:\n",
    "            p = PrologString(problog_programme)\n",
    "            d = get_evaluatable().create_from(p).evaluate()\n",
    "            with out:\n",
    "                out.clear_output(wait=True)\n",
    "                plot_outcome(d)\n",
    "                plt.show()\n",
    "        else:\n",
    "            d = {'error': 'No ProbLog programme given'}\n",
    "        return d\n",
    "    button.on_click(evaluate)\n",
    "    button._click_handlers(button)  # pre-click the button\n",
    "\n",
    "    return widgets.VBox([textbox, button, out])"
   ]
  },
  {
   "cell_type": "markdown",
   "id": "388e12c1",
   "metadata": {
    "slideshow": {
     "slide_type": "subslide"
    }
   },
   "source": [
    "We illustrate the use of Bayesian networks in ProbLog using the famous [Earthquake] example.\n",
    "\n",
    "[Earthquake]: http://www.bnlearn.com/bnrepository/#earthquake"
   ]
  },
  {
   "cell_type": "markdown",
   "id": "b1a5ea9b",
   "metadata": {
    "slideshow": {
     "slide_type": "fragment"
    }
   },
   "source": [
    "Suppose there is a burglary in our house with probability 0.7 and an earthquake with probability 0.2. Whether our alarm will ring depends on both burglary and earthquake:\n",
    "* if there is a burglary and an earthquake, the alarm rings with probability 0.9;\n",
    "* if there is only a burglary, it rings with probability 0.8;\n",
    "* if there is only an earthquake, it rings with probability 0.1;\n",
    "* if there is neither a burglary nor an earthquake, the alarm doesn't ring."
   ]
  },
  {
   "cell_type": "markdown",
   "id": "0b890326",
   "metadata": {
    "slideshow": {
     "slide_type": "subslide"
    }
   },
   "source": [
    "To model this as a Bayesian network, one would use three random variables, *burglary*, *earthquake* and *alarm*, with *burglary* and *earthquake* being parents of *alarm*. To model this in ProbLog, there are two possible solutions: using 'plain' ProbLog or using some syntactic sugar called probabilistic clauses and annotated disjunctions. We now explain both solutions.\n",
    "\n",
    "digraph alarm1 { burglary -> alarm; earthquake -> alarm; }  \n",
    "[ProbLog syntax documentation]\n",
    "\n",
    "[ProbLog syntax documentation]: https://problog.readthedocs.io/en/latest/modeling_basic.html#problog"
   ]
  },
  {
   "cell_type": "markdown",
   "id": "83d5bac6",
   "metadata": {
    "slideshow": {
     "slide_type": "slide"
    }
   },
   "source": [
    "## Probabilistic facts ##"
   ]
  },
  {
   "cell_type": "markdown",
   "id": "2f6880e2",
   "metadata": {
    "slideshow": {
     "slide_type": "subslide"
    }
   },
   "source": [
    "In 'plain' ProbLog, we can encode the Bayesian network as follows.\n",
    "\n",
    "* Since *burglary* and *earthquake* are random variable without parents, we can simply encode them as probabilistic facts, with the proper probability.\n",
    "* To express the dependence of the random variable *alarm* on its parents *burglary* and *earthquake*, we use one Prolog rule for every possible state of the parents.\n",
    "  - The first rule covers the case in which *burglary* and *earthquake* are both true. The required rule is `alarm :- burglary, earthquake, p_alarm1`, with `p_alarm1` an auxiliary atom defined by means of the probabilistic fact `0.9::p_alarm1`. The point of adding this atom is to ensure that the probability of *alarm* in this case will be 0.9 as required.\n",
    "  - The second rule covers the case that *burglary* is true but *earthquake* is false. Note that *earthquake* being false is encoded using the \"\\+\" symbol for negation (as in regular Prolog).\n",
    "  - The third rule covers the case that *burglary* is false and *earthquake* is true.\n",
    "  - The fourth case (*burglary* and *earthquake* are both false) does not require a rule. This is because, according to our Bayesian network, the probability of *alarm* is 0 in this case."
   ]
  },
  {
   "cell_type": "markdown",
   "id": "dc11b977",
   "metadata": {
    "slideshow": {
     "slide_type": "subslide"
    }
   },
   "source": [
    "We obtain the following ProbLog program."
   ]
  },
  {
   "cell_type": "code",
   "execution_count": 3,
   "id": "4f49e8cc",
   "metadata": {
    "slideshow": {
     "slide_type": ""
    },
    "tags": [
     "hide-input",
     "thebe-init"
    ]
   },
   "outputs": [],
   "source": [
    "probabilistic_facts = (\n",
    "\"\"\"0.7::burglary.\n",
    "0.2::earthquake.\n",
    "0.9::p_alarm1.\n",
    "0.8::p_alarm2.\n",
    "0.1::p_alarm3.\n",
    "\n",
    "alarm :- burglary, earthquake, p_alarm1.\n",
    "alarm :- burglary, \\+earthquake, p_alarm2.\n",
    "alarm :- \\+burglary, earthquake, p_alarm3.\n",
    "\n",
    "evidence(alarm,true).\n",
    "\n",
    "query(burglary).\n",
    "query(earthquake).\"\"\"\n",
    ")"
   ]
  },
  {
   "cell_type": "code",
   "execution_count": 4,
   "id": "fb694e98",
   "metadata": {
    "slideshow": {
     "slide_type": "subslide"
    },
    "tags": [
     "hide-input"
    ]
   },
   "outputs": [
    {
     "data": {
      "application/vnd.jupyter.widget-view+json": {
       "model_id": "2ef05ab7097548f2b73b0336ddbdadea",
       "version_major": 2,
       "version_minor": 0
      },
      "text/plain": [
       "VBox(children=(Textarea(value='0.7::burglary.\\n0.2::earthquake.\\n0.9::p_alarm1.\\n0.8::p_alarm2.\\n0.1::p_alarm3…"
      ]
     },
     "metadata": {},
     "output_type": "display_data"
    }
   ],
   "source": [
    "get_widget(probabilistic_facts)"
   ]
  },
  {
   "cell_type": "markdown",
   "id": "4906b606",
   "metadata": {
    "slideshow": {
     "slide_type": ""
    }
   },
   "source": [
    "When pressing 'Evaluate', ProbLog2 calculates the probability of there being a *burglary* or an *earthquake*, given the evidence that the *alarm* rang. The resulting marginals are: $P(burglary)=0.9896$ and $P(earthquake)=0.2275$."
   ]
  },
  {
   "cell_type": "markdown",
   "id": "7423870b",
   "metadata": {
    "slideshow": {
     "slide_type": "slide"
    }
   },
   "source": [
    "## Probabilistic clauses ##"
   ]
  },
  {
   "cell_type": "markdown",
   "id": "354bf749",
   "metadata": {
    "slideshow": {
     "slide_type": "subslide"
    }
   },
   "source": [
    "While the above is a correct encoding of the given Bayesian network, it is perhaps not very intuitive due to the auxiliary atoms. Fortunately, ProbLog2 offers some syntactic sugar called **probabilistic clauses** to encode this in a more readable way. Above, we encoded the information that the conditional probability of an *alarm* given a *burglary* and an *earthquake* equals 0.9 using the rule `alarm :- burglary, earthquake, p_alarm1`, plus the probabilistic fact `0.9::p_alarm1`. We can replace both with a single probabilistic clause of the form `0.9::alarm :- burglary, earthquake`. This should be read as: if *burglary* and *earthquake* are true, this causes *alarm* to become true with probability 0.9 if there is a *burglary* and an *earthquake*. As this example illustrates, a probabilistic clause has a body, just like regular ProbLog rules, and a head. The difference is that now, the head is annotated with a probability. By also using probabilistic clauses for the other rules in the ProbLog encoding of the Bayesian network, we get the following program."
   ]
  },
  {
   "cell_type": "code",
   "execution_count": 5,
   "id": "c5eb5734",
   "metadata": {
    "slideshow": {
     "slide_type": "subslide"
    },
    "tags": [
     "hide-input",
     "thebe-init"
    ]
   },
   "outputs": [],
   "source": [
    "probabilistic_clauses = (\n",
    "\"\"\"0.7::burglary.\n",
    "0.2::earthquake.\n",
    "\n",
    "0.9::alarm :- burglary, earthquake.\n",
    "0.8::alarm :- burglary, \\+earthquake.\n",
    "0.1::alarm :- \\+burglary, earthquake.\n",
    "\n",
    "evidence(alarm,true).\n",
    "query(burglary).\n",
    "query(earthquake).\"\"\"\n",
    ")"
   ]
  },
  {
   "cell_type": "code",
   "execution_count": 6,
   "id": "72ea687a",
   "metadata": {
    "slideshow": {
     "slide_type": "subslide"
    },
    "tags": [
     "hide-input"
    ]
   },
   "outputs": [
    {
     "data": {
      "application/vnd.jupyter.widget-view+json": {
       "model_id": "71ec30c3c6064f4abd560b0be50bffae",
       "version_major": 2,
       "version_minor": 0
      },
      "text/plain": [
       "VBox(children=(Textarea(value='0.7::burglary.\\n0.2::earthquake.\\n\\n0.9::alarm :- burglary, earthquake.\\n0.8::a…"
      ]
     },
     "metadata": {},
     "output_type": "display_data"
    }
   ],
   "source": [
    "get_widget(probabilistic_clauses)"
   ]
  },
  {
   "cell_type": "markdown",
   "id": "f88f0baf",
   "metadata": {
    "slideshow": {
     "slide_type": ""
    }
   },
   "source": [
    "As you can verify by pressing 'Evaluate', this returns the same marginals as the 'plain' ProbLog encoding: $P(burglary)=0.9896$ and $P(earthquake)=0.2275$. This is not a coincidence: the two programs are equivalent (but the program with probabilistic clauses has the advantage of not needing any auxiliary atoms).\n",
    "\n",
    "[Probabilistic clauses documentation]\n",
    "\n",
    "[Probabilistic clauses documentation]: https://problog.readthedocs.io/en/latest/modeling_basic.html#probabilistic-clauses"
   ]
  },
  {
   "cell_type": "markdown",
   "id": "0df9e504",
   "metadata": {
    "slideshow": {
     "slide_type": "slide"
    }
   },
   "source": [
    "## First-order ##"
   ]
  },
  {
   "cell_type": "markdown",
   "id": "7e59e860",
   "metadata": {
    "slideshow": {
     "slide_type": "subslide"
    }
   },
   "source": [
    "To illustrate the use of *first-order* ProbLog programs, we show below a first-order extension of the *Alarm* example.\n",
    "\n",
    "digraph alarm2 { burglary -> alarm; earthquake -> alarm; alarm -> \"calls(john)\"; alarm -> \"calls(...)\"; alarm -> \"calls(mary)\"; }  \n",
    "Suppose there are $N$ people and each person independently *calls* the police with a certain probability, depending on the *alarm* ringing or not: if the *alarm* rings, the probability of *calling* is 0.8, otherwise it is 0.1. This can be modelled as follows. We again use probabilistic clauses and show the case $N=2$ (two people)."
   ]
  },
  {
   "cell_type": "code",
   "execution_count": 7,
   "id": "1ec5fec3",
   "metadata": {
    "slideshow": {
     "slide_type": "subslide"
    },
    "tags": [
     "hide-input",
     "thebe-init"
    ]
   },
   "outputs": [],
   "source": [
    "first_order = (\n",
    "\"\"\"person(john).\n",
    "person(mary).\n",
    "\n",
    "0.7::burglary.\n",
    "0.2::earthquake.\n",
    "\n",
    "0.9::alarm :- burglary, earthquake.\n",
    "0.8::alarm :- burglary, \\+earthquake.\n",
    "0.1::alarm :- \\+burglary, earthquake.\n",
    "\n",
    "0.8::calls(X) :- alarm, person(X).\n",
    "0.1::calls(X) :- \\+alarm, person(X).\n",
    "\n",
    "evidence(calls(john),true).\n",
    "evidence(calls(mary),true).\n",
    "\n",
    "query(burglary).\n",
    "query(earthquake).\"\"\"\n",
    ")"
   ]
  },
  {
   "cell_type": "code",
   "execution_count": 8,
   "id": "f47994e3",
   "metadata": {
    "slideshow": {
     "slide_type": "subslide"
    },
    "tags": [
     "hide-input"
    ]
   },
   "outputs": [
    {
     "data": {
      "application/vnd.jupyter.widget-view+json": {
       "model_id": "32e2a986354a45578a7cfcc64b38820b",
       "version_major": 2,
       "version_minor": 0
      },
      "text/plain": [
       "VBox(children=(Textarea(value='person(john).\\nperson(mary).\\n\\n0.7::burglary.\\n0.2::earthquake.\\n\\n0.9::alarm …"
      ]
     },
     "metadata": {},
     "output_type": "display_data"
    }
   ],
   "source": [
    "get_widget(first_order)"
   ]
  },
  {
   "cell_type": "markdown",
   "id": "ba3b232a",
   "metadata": {
    "slideshow": {
     "slide_type": ""
    }
   },
   "source": [
    "When pressing 'Evaluate', ProbLog2 calculates the probability of there being a *burglary* or an *earthquake*, given the evidence that both *john* and *mary* *called*. We obtain $P(burglary)=0.981939$ and $P(earthquake)=0.226851$."
   ]
  },
  {
   "cell_type": "markdown",
   "id": "f167be02",
   "metadata": {
    "slideshow": {
     "slide_type": "subslide"
    }
   },
   "source": [
    "In general, any Boolean Bayesian network can be modeled in ProbLog using the above methodology. This can also be extended to non-Boolean Bayesian networks (in which some variables can take more than two possible values), by using annotated disjunctions with multiple atoms in the head."
   ]
  },
  {
   "cell_type": "markdown",
   "id": "bbfea6c2",
   "metadata": {
    "slideshow": {
     "slide_type": "slide"
    }
   },
   "source": [
    "## Annotated disjunctions: Dealing with multi-valued variables ##"
   ]
  },
  {
   "cell_type": "markdown",
   "id": "9669519e",
   "metadata": {
    "slideshow": {
     "slide_type": "subslide"
    }
   },
   "source": [
    "Since the random variables in the Bayesian network are all Boolean, we only need a single literal in the head of the rules. We can extend the Bayesian network to have a multi-valued variable by indicating the severity of the *earthquake*. The literal `earthquake` now has three possible values `none`, `mild`, `heavy` instead of previously two (no or yes). The probabilities of each value is denoted by the **annotated disjunction** in `0.01::earthquake(heavy); 0.19::earthquake(mild); 0.8::earthquake(none)`. An annotated disjunction is similar to a probabilistic disjunction, but with a different head. Instead of it being one atom annotated with a probability, it is now a disjunction of atoms each annotated with a probability."
   ]
  },
  {
   "cell_type": "code",
   "execution_count": 9,
   "id": "9e669e14",
   "metadata": {
    "slideshow": {
     "slide_type": "subslide"
    },
    "tags": [
     "hide-input",
     "thebe-init"
    ]
   },
   "outputs": [],
   "source": [
    "annotated_disjunctions = (\n",
    "\"\"\"person(john).\n",
    "person(mary).\n",
    "\n",
    "0.7::burglary.\n",
    "0.01::earthquake(heavy); 0.19::earthquake(mild); 0.8::earthquake(none).\n",
    "\n",
    "0.90::alarm :-   burglary, earthquake(heavy).\n",
    "0.85::alarm :-   burglary, earthquake(mild).\n",
    "0.80::alarm :-   burglary, earthquake(none).\n",
    "0.10::alarm :- \\+burglary, earthquake(mild).\n",
    "0.30::alarm :- \\+burglary, earthquake(heavy).\n",
    "\n",
    "0.8::calls(X) :- alarm, person(X).\n",
    "0.1::calls(X) :- \\+alarm, person(X).\n",
    "\n",
    "evidence(calls(john),true).\n",
    "evidence(calls(mary),true).\n",
    "\n",
    "query(burglary).\n",
    "query(earthquake(_)).\"\"\"\n",
    ")"
   ]
  },
  {
   "cell_type": "code",
   "execution_count": 10,
   "id": "630d34a1",
   "metadata": {
    "slideshow": {
     "slide_type": "subslide"
    },
    "tags": [
     "hide-input"
    ]
   },
   "outputs": [
    {
     "data": {
      "application/vnd.jupyter.widget-view+json": {
       "model_id": "90940f0bfcc34b1d94808927002836d5",
       "version_major": 2,
       "version_minor": 0
      },
      "text/plain": [
       "VBox(children=(Textarea(value='person(john).\\nperson(mary).\\n\\n0.7::burglary.\\n0.01::earthquake(heavy); 0.19::…"
      ]
     },
     "metadata": {},
     "output_type": "display_data"
    }
   ],
   "source": [
    "get_widget(annotated_disjunctions)"
   ]
  },
  {
   "cell_type": "markdown",
   "id": "87b48978",
   "metadata": {
    "slideshow": {
     "slide_type": "subslide"
    }
   },
   "source": [
    "[Annotated disjunctions documentation]\n",
    "\n",
    "[Annotated disjunctions documentation]: https://problog.readthedocs.io/en/latest/modeling_basic.html#annotated-disjunctions"
   ]
  }
 ],
 "metadata": {
  "jupytext": {
   "formats": "md:myst",
   "text_representation": {
    "extension": ".md",
    "format_name": "myst"
   }
  },
  "kernelspec": {
   "display_name": "Python 3",
   "language": "python",
   "name": "python3"
  },
  "language_info": {
   "codemirror_mode": {
    "name": "ipython",
    "version": 3
   },
   "file_extension": ".py",
   "mimetype": "text/x-python",
   "name": "python",
   "nbconvert_exporter": "python",
   "pygments_lexer": "ipython3",
   "version": "3.7.15"
  },
  "rise": {
   "start_slideshow_at": "beginning"
  },
  "source_map": [
   15,
   19,
   23,
   33,
   89,
   98,
   107,
   116,
   131,
   181,
   187,
   195,
   204,
   208,
   219,
   223,
   247,
   256,
   260,
   264,
   268,
   288,
   297,
   305,
   309,
   316,
   344,
   353,
   357,
   361,
   365,
   369,
   399,
   408
  ],
  "widgets": {
   "application/vnd.jupyter.widget-state+json": {
    "state": {
     "0194078bf41d4b21b3e7c906af944607": {
      "model_module": "@jupyter-widgets/base",
      "model_module_version": "1.2.0",
      "model_name": "LayoutModel",
      "state": {
       "_model_module": "@jupyter-widgets/base",
       "_model_module_version": "1.2.0",
       "_model_name": "LayoutModel",
       "_view_count": null,
       "_view_module": "@jupyter-widgets/base",
       "_view_module_version": "1.2.0",
       "_view_name": "LayoutView",
       "align_content": null,
       "align_items": null,
       "align_self": null,
       "border": null,
       "bottom": null,
       "display": null,
       "flex": null,
       "flex_flow": null,
       "grid_area": null,
       "grid_auto_columns": null,
       "grid_auto_flow": null,
       "grid_auto_rows": null,
       "grid_column": null,
       "grid_gap": null,
       "grid_row": null,
       "grid_template_areas": null,
       "grid_template_columns": null,
       "grid_template_rows": null,
       "height": null,
       "justify_content": null,
       "justify_items": null,
       "left": null,
       "margin": null,
       "max_height": null,
       "max_width": null,
       "min_height": null,
       "min_width": null,
       "object_fit": null,
       "object_position": null,
       "order": null,
       "overflow": null,
       "overflow_x": null,
       "overflow_y": null,
       "padding": null,
       "right": null,
       "top": null,
       "visibility": null,
       "width": null
      }
     },
     "082184a66c2341c7943928503819cf4e": {
      "model_module": "@jupyter-widgets/controls",
      "model_module_version": "1.5.0",
      "model_name": "ButtonStyleModel",
      "state": {
       "_model_module": "@jupyter-widgets/controls",
       "_model_module_version": "1.5.0",
       "_model_name": "ButtonStyleModel",
       "_view_count": null,
       "_view_module": "@jupyter-widgets/base",
       "_view_module_version": "1.2.0",
       "_view_name": "StyleView",
       "button_color": null,
       "font_weight": ""
      }
     },
     "13c10f43bb144e12ba9e20657d67ab33": {
      "model_module": "@jupyter-widgets/base",
      "model_module_version": "1.2.0",
      "model_name": "LayoutModel",
      "state": {
       "_model_module": "@jupyter-widgets/base",
       "_model_module_version": "1.2.0",
       "_model_name": "LayoutModel",
       "_view_count": null,
       "_view_module": "@jupyter-widgets/base",
       "_view_module_version": "1.2.0",
       "_view_name": "LayoutView",
       "align_content": null,
       "align_items": null,
       "align_self": null,
       "border": null,
       "bottom": null,
       "display": null,
       "flex": null,
       "flex_flow": null,
       "grid_area": null,
       "grid_auto_columns": null,
       "grid_auto_flow": null,
       "grid_auto_rows": null,
       "grid_column": null,
       "grid_gap": null,
       "grid_row": null,
       "grid_template_areas": null,
       "grid_template_columns": null,
       "grid_template_rows": null,
       "height": "414px",
       "justify_content": null,
       "justify_items": null,
       "left": null,
       "margin": null,
       "max_height": null,
       "max_width": null,
       "min_height": null,
       "min_width": null,
       "object_fit": null,
       "object_position": null,
       "order": null,
       "overflow": null,
       "overflow_x": null,
       "overflow_y": null,
       "padding": null,
       "right": null,
       "top": null,
       "visibility": null,
       "width": "300px"
      }
     },
     "1977cd641e8c4549bb597ed167f9bf0b": {
      "model_module": "@jupyter-widgets/base",
      "model_module_version": "1.2.0",
      "model_name": "LayoutModel",
      "state": {
       "_model_module": "@jupyter-widgets/base",
       "_model_module_version": "1.2.0",
       "_model_name": "LayoutModel",
       "_view_count": null,
       "_view_module": "@jupyter-widgets/base",
       "_view_module_version": "1.2.0",
       "_view_name": "LayoutView",
       "align_content": null,
       "align_items": null,
       "align_self": null,
       "border": null,
       "bottom": null,
       "display": null,
       "flex": null,
       "flex_flow": null,
       "grid_area": null,
       "grid_auto_columns": null,
       "grid_auto_flow": null,
       "grid_auto_rows": null,
       "grid_column": null,
       "grid_gap": null,
       "grid_row": null,
       "grid_template_areas": null,
       "grid_template_columns": null,
       "grid_template_rows": null,
       "height": null,
       "justify_content": null,
       "justify_items": null,
       "left": null,
       "margin": null,
       "max_height": null,
       "max_width": null,
       "min_height": null,
       "min_width": null,
       "object_fit": null,
       "object_position": null,
       "order": null,
       "overflow": null,
       "overflow_x": null,
       "overflow_y": null,
       "padding": null,
       "right": null,
       "top": null,
       "visibility": null,
       "width": null
      }
     },
     "1d5d277299d5498db43fae931206ef95": {
      "model_module": "@jupyter-widgets/controls",
      "model_module_version": "1.5.0",
      "model_name": "ButtonModel",
      "state": {
       "_dom_classes": [],
       "_model_module": "@jupyter-widgets/controls",
       "_model_module_version": "1.5.0",
       "_model_name": "ButtonModel",
       "_view_count": null,
       "_view_module": "@jupyter-widgets/controls",
       "_view_module_version": "1.5.0",
       "_view_name": "ButtonView",
       "button_style": "info",
       "description": "Evaluate",
       "disabled": false,
       "icon": "",
       "layout": "IPY_MODEL_0194078bf41d4b21b3e7c906af944607",
       "style": "IPY_MODEL_368e85c5d909440e8af755bafd9ed457",
       "tooltip": ""
      }
     },
     "2a4c5e46badf43deab8bf63a1ea8bb01": {
      "model_module": "@jupyter-widgets/base",
      "model_module_version": "1.2.0",
      "model_name": "LayoutModel",
      "state": {
       "_model_module": "@jupyter-widgets/base",
       "_model_module_version": "1.2.0",
       "_model_name": "LayoutModel",
       "_view_count": null,
       "_view_module": "@jupyter-widgets/base",
       "_view_module_version": "1.2.0",
       "_view_name": "LayoutView",
       "align_content": null,
       "align_items": null,
       "align_self": null,
       "border": null,
       "bottom": null,
       "display": null,
       "flex": null,
       "flex_flow": null,
       "grid_area": null,
       "grid_auto_columns": null,
       "grid_auto_flow": null,
       "grid_auto_rows": null,
       "grid_column": null,
       "grid_gap": null,
       "grid_row": null,
       "grid_template_areas": null,
       "grid_template_columns": null,
       "grid_template_rows": null,
       "height": null,
       "justify_content": null,
       "justify_items": null,
       "left": null,
       "margin": null,
       "max_height": null,
       "max_width": null,
       "min_height": null,
       "min_width": null,
       "object_fit": null,
       "object_position": null,
       "order": null,
       "overflow": null,
       "overflow_x": null,
       "overflow_y": null,
       "padding": null,
       "right": null,
       "top": null,
       "visibility": null,
       "width": null
      }
     },
     "2ef05ab7097548f2b73b0336ddbdadea": {
      "model_module": "@jupyter-widgets/controls",
      "model_module_version": "1.5.0",
      "model_name": "VBoxModel",
      "state": {
       "_dom_classes": [],
       "_model_module": "@jupyter-widgets/controls",
       "_model_module_version": "1.5.0",
       "_model_name": "VBoxModel",
       "_view_count": null,
       "_view_module": "@jupyter-widgets/controls",
       "_view_module_version": "1.5.0",
       "_view_name": "VBoxView",
       "box_style": "",
       "children": [
        "IPY_MODEL_ae745c60950e4cab8d048199274a06ee",
        "IPY_MODEL_1d5d277299d5498db43fae931206ef95",
        "IPY_MODEL_bb0b16261cf74fe8a2aad68d2ae81d07"
       ],
       "layout": "IPY_MODEL_35086dec67994024a420062f1c562bd6"
      }
     },
     "3155d64636924301bd16f36055ca4a07": {
      "model_module": "@jupyter-widgets/controls",
      "model_module_version": "1.5.0",
      "model_name": "DescriptionStyleModel",
      "state": {
       "_model_module": "@jupyter-widgets/controls",
       "_model_module_version": "1.5.0",
       "_model_name": "DescriptionStyleModel",
       "_view_count": null,
       "_view_module": "@jupyter-widgets/base",
       "_view_module_version": "1.2.0",
       "_view_name": "StyleView",
       "description_width": ""
      }
     },
     "32e2a986354a45578a7cfcc64b38820b": {
      "model_module": "@jupyter-widgets/controls",
      "model_module_version": "1.5.0",
      "model_name": "VBoxModel",
      "state": {
       "_dom_classes": [],
       "_model_module": "@jupyter-widgets/controls",
       "_model_module_version": "1.5.0",
       "_model_name": "VBoxModel",
       "_view_count": null,
       "_view_module": "@jupyter-widgets/controls",
       "_view_module_version": "1.5.0",
       "_view_name": "VBoxView",
       "box_style": "",
       "children": [
        "IPY_MODEL_af5c3dfa2c824c2788671481ef37c253",
        "IPY_MODEL_7861413187874831905ad38f87016744",
        "IPY_MODEL_fad4b90528354255987bd0216d4561d3"
       ],
       "layout": "IPY_MODEL_e592a20bc6fe4dd38ebfb107c40706d5"
      }
     },
     "35086dec67994024a420062f1c562bd6": {
      "model_module": "@jupyter-widgets/base",
      "model_module_version": "1.2.0",
      "model_name": "LayoutModel",
      "state": {
       "_model_module": "@jupyter-widgets/base",
       "_model_module_version": "1.2.0",
       "_model_name": "LayoutModel",
       "_view_count": null,
       "_view_module": "@jupyter-widgets/base",
       "_view_module_version": "1.2.0",
       "_view_name": "LayoutView",
       "align_content": null,
       "align_items": null,
       "align_self": null,
       "border": null,
       "bottom": null,
       "display": null,
       "flex": null,
       "flex_flow": null,
       "grid_area": null,
       "grid_auto_columns": null,
       "grid_auto_flow": null,
       "grid_auto_rows": null,
       "grid_column": null,
       "grid_gap": null,
       "grid_row": null,
       "grid_template_areas": null,
       "grid_template_columns": null,
       "grid_template_rows": null,
       "height": null,
       "justify_content": null,
       "justify_items": null,
       "left": null,
       "margin": null,
       "max_height": null,
       "max_width": null,
       "min_height": null,
       "min_width": null,
       "object_fit": null,
       "object_position": null,
       "order": null,
       "overflow": null,
       "overflow_x": null,
       "overflow_y": null,
       "padding": null,
       "right": null,
       "top": null,
       "visibility": null,
       "width": null
      }
     },
     "368e85c5d909440e8af755bafd9ed457": {
      "model_module": "@jupyter-widgets/controls",
      "model_module_version": "1.5.0",
      "model_name": "ButtonStyleModel",
      "state": {
       "_model_module": "@jupyter-widgets/controls",
       "_model_module_version": "1.5.0",
       "_model_name": "ButtonStyleModel",
       "_view_count": null,
       "_view_module": "@jupyter-widgets/base",
       "_view_module_version": "1.2.0",
       "_view_name": "StyleView",
       "button_color": null,
       "font_weight": ""
      }
     },
     "3811e727e52340bcb799f8eb05aebfee": {
      "model_module": "@jupyter-widgets/base",
      "model_module_version": "1.2.0",
      "model_name": "LayoutModel",
      "state": {
       "_model_module": "@jupyter-widgets/base",
       "_model_module_version": "1.2.0",
       "_model_name": "LayoutModel",
       "_view_count": null,
       "_view_module": "@jupyter-widgets/base",
       "_view_module_version": "1.2.0",
       "_view_name": "LayoutView",
       "align_content": null,
       "align_items": null,
       "align_self": null,
       "border": null,
       "bottom": null,
       "display": null,
       "flex": null,
       "flex_flow": null,
       "grid_area": null,
       "grid_auto_columns": null,
       "grid_auto_flow": null,
       "grid_auto_rows": null,
       "grid_column": null,
       "grid_gap": null,
       "grid_row": null,
       "grid_template_areas": null,
       "grid_template_columns": null,
       "grid_template_rows": null,
       "height": null,
       "justify_content": null,
       "justify_items": null,
       "left": null,
       "margin": null,
       "max_height": null,
       "max_width": null,
       "min_height": null,
       "min_width": null,
       "object_fit": null,
       "object_position": null,
       "order": null,
       "overflow": null,
       "overflow_x": null,
       "overflow_y": null,
       "padding": null,
       "right": null,
       "top": null,
       "visibility": null,
       "width": null
      }
     },
     "39128cf4d4fc42efb4b4214c02c87daa": {
      "model_module": "@jupyter-widgets/base",
      "model_module_version": "1.2.0",
      "model_name": "LayoutModel",
      "state": {
       "_model_module": "@jupyter-widgets/base",
       "_model_module_version": "1.2.0",
       "_model_name": "LayoutModel",
       "_view_count": null,
       "_view_module": "@jupyter-widgets/base",
       "_view_module_version": "1.2.0",
       "_view_name": "LayoutView",
       "align_content": null,
       "align_items": null,
       "align_self": null,
       "border": null,
       "bottom": null,
       "display": null,
       "flex": null,
       "flex_flow": null,
       "grid_area": null,
       "grid_auto_columns": null,
       "grid_auto_flow": null,
       "grid_auto_rows": null,
       "grid_column": null,
       "grid_gap": null,
       "grid_row": null,
       "grid_template_areas": null,
       "grid_template_columns": null,
       "grid_template_rows": null,
       "height": null,
       "justify_content": null,
       "justify_items": null,
       "left": null,
       "margin": null,
       "max_height": null,
       "max_width": null,
       "min_height": null,
       "min_width": null,
       "object_fit": null,
       "object_position": null,
       "order": null,
       "overflow": null,
       "overflow_x": null,
       "overflow_y": null,
       "padding": null,
       "right": null,
       "top": null,
       "visibility": null,
       "width": null
      }
     },
     "40d88214c3b74a76b2151406966bc895": {
      "model_module": "@jupyter-widgets/base",
      "model_module_version": "1.2.0",
      "model_name": "LayoutModel",
      "state": {
       "_model_module": "@jupyter-widgets/base",
       "_model_module_version": "1.2.0",
       "_model_name": "LayoutModel",
       "_view_count": null,
       "_view_module": "@jupyter-widgets/base",
       "_view_module_version": "1.2.0",
       "_view_name": "LayoutView",
       "align_content": null,
       "align_items": null,
       "align_self": null,
       "border": null,
       "bottom": null,
       "display": null,
       "flex": null,
       "flex_flow": null,
       "grid_area": null,
       "grid_auto_columns": null,
       "grid_auto_flow": null,
       "grid_auto_rows": null,
       "grid_column": null,
       "grid_gap": null,
       "grid_row": null,
       "grid_template_areas": null,
       "grid_template_columns": null,
       "grid_template_rows": null,
       "height": "230px",
       "justify_content": null,
       "justify_items": null,
       "left": null,
       "margin": null,
       "max_height": null,
       "max_width": null,
       "min_height": null,
       "min_width": null,
       "object_fit": null,
       "object_position": null,
       "order": null,
       "overflow": null,
       "overflow_x": null,
       "overflow_y": null,
       "padding": null,
       "right": null,
       "top": null,
       "visibility": null,
       "width": "300px"
      }
     },
     "4c912fcbcf4f4f038373de7618e886be": {
      "model_module": "@jupyter-widgets/controls",
      "model_module_version": "1.5.0",
      "model_name": "TextareaModel",
      "state": {
       "_dom_classes": [],
       "_model_module": "@jupyter-widgets/controls",
       "_model_module_version": "1.5.0",
       "_model_name": "TextareaModel",
       "_view_count": null,
       "_view_module": "@jupyter-widgets/controls",
       "_view_module_version": "1.5.0",
       "_view_name": "TextareaView",
       "continuous_update": true,
       "description": "",
       "description_tooltip": null,
       "disabled": false,
       "layout": "IPY_MODEL_40d88214c3b74a76b2151406966bc895",
       "placeholder": "ProbLog Programme",
       "rows": null,
       "style": "IPY_MODEL_c47ae2b78e6046a6b706d8b2105d7b6e",
       "value": "0.7::burglary.\n0.2::earthquake.\n\n0.9::alarm :- burglary, earthquake.\n0.8::alarm :- burglary, \\+earthquake.\n0.1::alarm :- \\+burglary, earthquake.\n\nevidence(alarm,true).\nquery(burglary).\nquery(earthquake)."
      }
     },
     "5899ffdc99864a9b99df716848c1c6fc": {
      "model_module": "@jupyter-widgets/controls",
      "model_module_version": "1.5.0",
      "model_name": "DescriptionStyleModel",
      "state": {
       "_model_module": "@jupyter-widgets/controls",
       "_model_module_version": "1.5.0",
       "_model_name": "DescriptionStyleModel",
       "_view_count": null,
       "_view_module": "@jupyter-widgets/base",
       "_view_module_version": "1.2.0",
       "_view_name": "StyleView",
       "description_width": ""
      }
     },
     "5bd2326f800c4ebbbe3177de90000270": {
      "model_module": "@jupyter-widgets/base",
      "model_module_version": "1.2.0",
      "model_name": "LayoutModel",
      "state": {
       "_model_module": "@jupyter-widgets/base",
       "_model_module_version": "1.2.0",
       "_model_name": "LayoutModel",
       "_view_count": null,
       "_view_module": "@jupyter-widgets/base",
       "_view_module_version": "1.2.0",
       "_view_name": "LayoutView",
       "align_content": null,
       "align_items": null,
       "align_self": null,
       "border": null,
       "bottom": null,
       "display": null,
       "flex": null,
       "flex_flow": null,
       "grid_area": null,
       "grid_auto_columns": null,
       "grid_auto_flow": null,
       "grid_auto_rows": null,
       "grid_column": null,
       "grid_gap": null,
       "grid_row": null,
       "grid_template_areas": null,
       "grid_template_columns": null,
       "grid_template_rows": null,
       "height": null,
       "justify_content": null,
       "justify_items": null,
       "left": null,
       "margin": null,
       "max_height": null,
       "max_width": null,
       "min_height": null,
       "min_width": null,
       "object_fit": null,
       "object_position": null,
       "order": null,
       "overflow": null,
       "overflow_x": null,
       "overflow_y": null,
       "padding": null,
       "right": null,
       "top": null,
       "visibility": null,
       "width": null
      }
     },
     "634de3babe90438ca1bf03e2374aa461": {
      "model_module": "@jupyter-widgets/controls",
      "model_module_version": "1.5.0",
      "model_name": "ButtonStyleModel",
      "state": {
       "_model_module": "@jupyter-widgets/controls",
       "_model_module_version": "1.5.0",
       "_model_name": "ButtonStyleModel",
       "_view_count": null,
       "_view_module": "@jupyter-widgets/base",
       "_view_module_version": "1.2.0",
       "_view_name": "StyleView",
       "button_color": null,
       "font_weight": ""
      }
     },
     "63cd9a8aa5f24fd0b64714141f3a6630": {
      "model_module": "@jupyter-widgets/controls",
      "model_module_version": "1.5.0",
      "model_name": "ButtonModel",
      "state": {
       "_dom_classes": [],
       "_model_module": "@jupyter-widgets/controls",
       "_model_module_version": "1.5.0",
       "_model_name": "ButtonModel",
       "_view_count": null,
       "_view_module": "@jupyter-widgets/controls",
       "_view_module_version": "1.5.0",
       "_view_name": "ButtonView",
       "button_style": "info",
       "description": "Evaluate",
       "disabled": false,
       "icon": "",
       "layout": "IPY_MODEL_d46042ddb1ee469790157905b3233994",
       "style": "IPY_MODEL_c56c349be2844e2cbbc159de3232e9a6",
       "tooltip": ""
      }
     },
     "69dca201931a418992479f68115e7d48": {
      "model_module": "@jupyter-widgets/controls",
      "model_module_version": "1.5.0",
      "model_name": "ButtonModel",
      "state": {
       "_dom_classes": [],
       "_model_module": "@jupyter-widgets/controls",
       "_model_module_version": "1.5.0",
       "_model_name": "ButtonModel",
       "_view_count": null,
       "_view_module": "@jupyter-widgets/controls",
       "_view_module_version": "1.5.0",
       "_view_name": "ButtonView",
       "button_style": "info",
       "description": "Evaluate",
       "disabled": false,
       "icon": "",
       "layout": "IPY_MODEL_e77133bcd72248349272474682b5bda3",
       "style": "IPY_MODEL_082184a66c2341c7943928503819cf4e",
       "tooltip": ""
      }
     },
     "6c53ecd61e5e4ef8a4f459fc011ab049": {
      "model_module": "@jupyter-widgets/base",
      "model_module_version": "1.2.0",
      "model_name": "LayoutModel",
      "state": {
       "_model_module": "@jupyter-widgets/base",
       "_model_module_version": "1.2.0",
       "_model_name": "LayoutModel",
       "_view_count": null,
       "_view_module": "@jupyter-widgets/base",
       "_view_module_version": "1.2.0",
       "_view_name": "LayoutView",
       "align_content": null,
       "align_items": null,
       "align_self": null,
       "border": null,
       "bottom": null,
       "display": null,
       "flex": null,
       "flex_flow": null,
       "grid_area": null,
       "grid_auto_columns": null,
       "grid_auto_flow": null,
       "grid_auto_rows": null,
       "grid_column": null,
       "grid_gap": null,
       "grid_row": null,
       "grid_template_areas": null,
       "grid_template_columns": null,
       "grid_template_rows": null,
       "height": "322px",
       "justify_content": null,
       "justify_items": null,
       "left": null,
       "margin": null,
       "max_height": null,
       "max_width": null,
       "min_height": null,
       "min_width": null,
       "object_fit": null,
       "object_position": null,
       "order": null,
       "overflow": null,
       "overflow_x": null,
       "overflow_y": null,
       "padding": null,
       "right": null,
       "top": null,
       "visibility": null,
       "width": "300px"
      }
     },
     "71ec30c3c6064f4abd560b0be50bffae": {
      "model_module": "@jupyter-widgets/controls",
      "model_module_version": "1.5.0",
      "model_name": "VBoxModel",
      "state": {
       "_dom_classes": [],
       "_model_module": "@jupyter-widgets/controls",
       "_model_module_version": "1.5.0",
       "_model_name": "VBoxModel",
       "_view_count": null,
       "_view_module": "@jupyter-widgets/controls",
       "_view_module_version": "1.5.0",
       "_view_name": "VBoxView",
       "box_style": "",
       "children": [
        "IPY_MODEL_4c912fcbcf4f4f038373de7618e886be",
        "IPY_MODEL_63cd9a8aa5f24fd0b64714141f3a6630",
        "IPY_MODEL_85250d5b288543b0a13fd3e211648ed6"
       ],
       "layout": "IPY_MODEL_39128cf4d4fc42efb4b4214c02c87daa"
      }
     },
     "73f34253c1b34d26b70d17fed7bd797e": {
      "model_module": "@jupyter-widgets/output",
      "model_module_version": "1.0.0",
      "model_name": "OutputModel",
      "state": {
       "_dom_classes": [],
       "_model_module": "@jupyter-widgets/output",
       "_model_module_version": "1.0.0",
       "_model_name": "OutputModel",
       "_view_count": null,
       "_view_module": "@jupyter-widgets/output",
       "_view_module_version": "1.0.0",
       "_view_name": "OutputView",
       "layout": "IPY_MODEL_adeb05228f6544a3866fc028ce312f9a",
       "msg_id": "",
       "outputs": [
        {
         "data": {
          "image/png": "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\n",
          "text/plain": "<Figure size 640x480 with 1 Axes>"
         },
         "metadata": {},
         "output_type": "display_data"
        }
       ]
      }
     },
     "7861413187874831905ad38f87016744": {
      "model_module": "@jupyter-widgets/controls",
      "model_module_version": "1.5.0",
      "model_name": "ButtonModel",
      "state": {
       "_dom_classes": [],
       "_model_module": "@jupyter-widgets/controls",
       "_model_module_version": "1.5.0",
       "_model_name": "ButtonModel",
       "_view_count": null,
       "_view_module": "@jupyter-widgets/controls",
       "_view_module_version": "1.5.0",
       "_view_name": "ButtonView",
       "button_style": "info",
       "description": "Evaluate",
       "disabled": false,
       "icon": "",
       "layout": "IPY_MODEL_1977cd641e8c4549bb597ed167f9bf0b",
       "style": "IPY_MODEL_634de3babe90438ca1bf03e2374aa461",
       "tooltip": ""
      }
     },
     "85250d5b288543b0a13fd3e211648ed6": {
      "model_module": "@jupyter-widgets/output",
      "model_module_version": "1.0.0",
      "model_name": "OutputModel",
      "state": {
       "_dom_classes": [],
       "_model_module": "@jupyter-widgets/output",
       "_model_module_version": "1.0.0",
       "_model_name": "OutputModel",
       "_view_count": null,
       "_view_module": "@jupyter-widgets/output",
       "_view_module_version": "1.0.0",
       "_view_name": "OutputView",
       "layout": "IPY_MODEL_3811e727e52340bcb799f8eb05aebfee",
       "msg_id": "",
       "outputs": [
        {
         "data": {
          "image/png": "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\n",
          "text/plain": "<Figure size 640x480 with 1 Axes>"
         },
         "metadata": {},
         "output_type": "display_data"
        }
       ]
      }
     },
     "90940f0bfcc34b1d94808927002836d5": {
      "model_module": "@jupyter-widgets/controls",
      "model_module_version": "1.5.0",
      "model_name": "VBoxModel",
      "state": {
       "_dom_classes": [],
       "_model_module": "@jupyter-widgets/controls",
       "_model_module_version": "1.5.0",
       "_model_name": "VBoxModel",
       "_view_count": null,
       "_view_module": "@jupyter-widgets/controls",
       "_view_module_version": "1.5.0",
       "_view_name": "VBoxView",
       "box_style": "",
       "children": [
        "IPY_MODEL_ac7ea5ca01f243a698de76e267ab4b23",
        "IPY_MODEL_69dca201931a418992479f68115e7d48",
        "IPY_MODEL_73f34253c1b34d26b70d17fed7bd797e"
       ],
       "layout": "IPY_MODEL_5bd2326f800c4ebbbe3177de90000270"
      }
     },
     "ac7ea5ca01f243a698de76e267ab4b23": {
      "model_module": "@jupyter-widgets/controls",
      "model_module_version": "1.5.0",
      "model_name": "TextareaModel",
      "state": {
       "_dom_classes": [],
       "_model_module": "@jupyter-widgets/controls",
       "_model_module_version": "1.5.0",
       "_model_name": "TextareaModel",
       "_view_count": null,
       "_view_module": "@jupyter-widgets/controls",
       "_view_module_version": "1.5.0",
       "_view_name": "TextareaView",
       "continuous_update": true,
       "description": "",
       "description_tooltip": null,
       "disabled": false,
       "layout": "IPY_MODEL_d95cd92edbb14795941018833cb4a323",
       "placeholder": "ProbLog Programme",
       "rows": null,
       "style": "IPY_MODEL_3155d64636924301bd16f36055ca4a07",
       "value": "person(john).\nperson(mary).\n\n0.7::burglary.\n0.01::earthquake(heavy); 0.19::earthquake(mild); 0.8::earthquake(none).\n\n0.90::alarm :-   burglary, earthquake(heavy).\n0.85::alarm :-   burglary, earthquake(mild).\n0.80::alarm :-   burglary, earthquake(none).\n0.10::alarm :- \\+burglary, earthquake(mild).\n0.30::alarm :- \\+burglary, earthquake(heavy).\n\n0.8::calls(X) :- alarm, person(X).\n0.1::calls(X) :- \\+alarm, person(X).\n\nevidence(calls(john),true).\nevidence(calls(mary),true).\n\nquery(burglary).\nquery(earthquake(_))."
      }
     },
     "adeb05228f6544a3866fc028ce312f9a": {
      "model_module": "@jupyter-widgets/base",
      "model_module_version": "1.2.0",
      "model_name": "LayoutModel",
      "state": {
       "_model_module": "@jupyter-widgets/base",
       "_model_module_version": "1.2.0",
       "_model_name": "LayoutModel",
       "_view_count": null,
       "_view_module": "@jupyter-widgets/base",
       "_view_module_version": "1.2.0",
       "_view_name": "LayoutView",
       "align_content": null,
       "align_items": null,
       "align_self": null,
       "border": null,
       "bottom": null,
       "display": null,
       "flex": null,
       "flex_flow": null,
       "grid_area": null,
       "grid_auto_columns": null,
       "grid_auto_flow": null,
       "grid_auto_rows": null,
       "grid_column": null,
       "grid_gap": null,
       "grid_row": null,
       "grid_template_areas": null,
       "grid_template_columns": null,
       "grid_template_rows": null,
       "height": null,
       "justify_content": null,
       "justify_items": null,
       "left": null,
       "margin": null,
       "max_height": null,
       "max_width": null,
       "min_height": null,
       "min_width": null,
       "object_fit": null,
       "object_position": null,
       "order": null,
       "overflow": null,
       "overflow_x": null,
       "overflow_y": null,
       "padding": null,
       "right": null,
       "top": null,
       "visibility": null,
       "width": null
      }
     },
     "ae745c60950e4cab8d048199274a06ee": {
      "model_module": "@jupyter-widgets/controls",
      "model_module_version": "1.5.0",
      "model_name": "TextareaModel",
      "state": {
       "_dom_classes": [],
       "_model_module": "@jupyter-widgets/controls",
       "_model_module_version": "1.5.0",
       "_model_name": "TextareaModel",
       "_view_count": null,
       "_view_module": "@jupyter-widgets/controls",
       "_view_module_version": "1.5.0",
       "_view_name": "TextareaView",
       "continuous_update": true,
       "description": "",
       "description_tooltip": null,
       "disabled": false,
       "layout": "IPY_MODEL_6c53ecd61e5e4ef8a4f459fc011ab049",
       "placeholder": "ProbLog Programme",
       "rows": null,
       "style": "IPY_MODEL_d4ae86b7aa374c9e9509035c56540a38",
       "value": "0.7::burglary.\n0.2::earthquake.\n0.9::p_alarm1.\n0.8::p_alarm2.\n0.1::p_alarm3.\n\nalarm :- burglary, earthquake, p_alarm1.\nalarm :- burglary, \\+earthquake, p_alarm2.\nalarm :- \\+burglary, earthquake, p_alarm3.\n\nevidence(alarm,true).\n\nquery(burglary).\nquery(earthquake)."
      }
     },
     "af031c53b19b44c0927574089f268f36": {
      "model_module": "@jupyter-widgets/base",
      "model_module_version": "1.2.0",
      "model_name": "LayoutModel",
      "state": {
       "_model_module": "@jupyter-widgets/base",
       "_model_module_version": "1.2.0",
       "_model_name": "LayoutModel",
       "_view_count": null,
       "_view_module": "@jupyter-widgets/base",
       "_view_module_version": "1.2.0",
       "_view_name": "LayoutView",
       "align_content": null,
       "align_items": null,
       "align_self": null,
       "border": null,
       "bottom": null,
       "display": null,
       "flex": null,
       "flex_flow": null,
       "grid_area": null,
       "grid_auto_columns": null,
       "grid_auto_flow": null,
       "grid_auto_rows": null,
       "grid_column": null,
       "grid_gap": null,
       "grid_row": null,
       "grid_template_areas": null,
       "grid_template_columns": null,
       "grid_template_rows": null,
       "height": null,
       "justify_content": null,
       "justify_items": null,
       "left": null,
       "margin": null,
       "max_height": null,
       "max_width": null,
       "min_height": null,
       "min_width": null,
       "object_fit": null,
       "object_position": null,
       "order": null,
       "overflow": null,
       "overflow_x": null,
       "overflow_y": null,
       "padding": null,
       "right": null,
       "top": null,
       "visibility": null,
       "width": null
      }
     },
     "af5c3dfa2c824c2788671481ef37c253": {
      "model_module": "@jupyter-widgets/controls",
      "model_module_version": "1.5.0",
      "model_name": "TextareaModel",
      "state": {
       "_dom_classes": [],
       "_model_module": "@jupyter-widgets/controls",
       "_model_module_version": "1.5.0",
       "_model_name": "TextareaModel",
       "_view_count": null,
       "_view_module": "@jupyter-widgets/controls",
       "_view_module_version": "1.5.0",
       "_view_name": "TextareaView",
       "continuous_update": true,
       "description": "",
       "description_tooltip": null,
       "disabled": false,
       "layout": "IPY_MODEL_13c10f43bb144e12ba9e20657d67ab33",
       "placeholder": "ProbLog Programme",
       "rows": null,
       "style": "IPY_MODEL_5899ffdc99864a9b99df716848c1c6fc",
       "value": "person(john).\nperson(mary).\n\n0.7::burglary.\n0.2::earthquake.\n\n0.9::alarm :- burglary, earthquake.\n0.8::alarm :- burglary, \\+earthquake.\n0.1::alarm :- \\+burglary, earthquake.\n\n0.8::calls(X) :- alarm, person(X).\n0.1::calls(X) :- \\+alarm, person(X).\n\nevidence(calls(john),true).\nevidence(calls(mary),true).\n\nquery(burglary).\nquery(earthquake)."
      }
     },
     "bb0b16261cf74fe8a2aad68d2ae81d07": {
      "model_module": "@jupyter-widgets/output",
      "model_module_version": "1.0.0",
      "model_name": "OutputModel",
      "state": {
       "_dom_classes": [],
       "_model_module": "@jupyter-widgets/output",
       "_model_module_version": "1.0.0",
       "_model_name": "OutputModel",
       "_view_count": null,
       "_view_module": "@jupyter-widgets/output",
       "_view_module_version": "1.0.0",
       "_view_name": "OutputView",
       "layout": "IPY_MODEL_2a4c5e46badf43deab8bf63a1ea8bb01",
       "msg_id": "",
       "outputs": [
        {
         "data": {
          "image/png": "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\n",
          "text/plain": "<Figure size 640x480 with 1 Axes>"
         },
         "metadata": {},
         "output_type": "display_data"
        }
       ]
      }
     },
     "c47ae2b78e6046a6b706d8b2105d7b6e": {
      "model_module": "@jupyter-widgets/controls",
      "model_module_version": "1.5.0",
      "model_name": "DescriptionStyleModel",
      "state": {
       "_model_module": "@jupyter-widgets/controls",
       "_model_module_version": "1.5.0",
       "_model_name": "DescriptionStyleModel",
       "_view_count": null,
       "_view_module": "@jupyter-widgets/base",
       "_view_module_version": "1.2.0",
       "_view_name": "StyleView",
       "description_width": ""
      }
     },
     "c56c349be2844e2cbbc159de3232e9a6": {
      "model_module": "@jupyter-widgets/controls",
      "model_module_version": "1.5.0",
      "model_name": "ButtonStyleModel",
      "state": {
       "_model_module": "@jupyter-widgets/controls",
       "_model_module_version": "1.5.0",
       "_model_name": "ButtonStyleModel",
       "_view_count": null,
       "_view_module": "@jupyter-widgets/base",
       "_view_module_version": "1.2.0",
       "_view_name": "StyleView",
       "button_color": null,
       "font_weight": ""
      }
     },
     "d46042ddb1ee469790157905b3233994": {
      "model_module": "@jupyter-widgets/base",
      "model_module_version": "1.2.0",
      "model_name": "LayoutModel",
      "state": {
       "_model_module": "@jupyter-widgets/base",
       "_model_module_version": "1.2.0",
       "_model_name": "LayoutModel",
       "_view_count": null,
       "_view_module": "@jupyter-widgets/base",
       "_view_module_version": "1.2.0",
       "_view_name": "LayoutView",
       "align_content": null,
       "align_items": null,
       "align_self": null,
       "border": null,
       "bottom": null,
       "display": null,
       "flex": null,
       "flex_flow": null,
       "grid_area": null,
       "grid_auto_columns": null,
       "grid_auto_flow": null,
       "grid_auto_rows": null,
       "grid_column": null,
       "grid_gap": null,
       "grid_row": null,
       "grid_template_areas": null,
       "grid_template_columns": null,
       "grid_template_rows": null,
       "height": null,
       "justify_content": null,
       "justify_items": null,
       "left": null,
       "margin": null,
       "max_height": null,
       "max_width": null,
       "min_height": null,
       "min_width": null,
       "object_fit": null,
       "object_position": null,
       "order": null,
       "overflow": null,
       "overflow_x": null,
       "overflow_y": null,
       "padding": null,
       "right": null,
       "top": null,
       "visibility": null,
       "width": null
      }
     },
     "d4ae86b7aa374c9e9509035c56540a38": {
      "model_module": "@jupyter-widgets/controls",
      "model_module_version": "1.5.0",
      "model_name": "DescriptionStyleModel",
      "state": {
       "_model_module": "@jupyter-widgets/controls",
       "_model_module_version": "1.5.0",
       "_model_name": "DescriptionStyleModel",
       "_view_count": null,
       "_view_module": "@jupyter-widgets/base",
       "_view_module_version": "1.2.0",
       "_view_name": "StyleView",
       "description_width": ""
      }
     },
     "d95cd92edbb14795941018833cb4a323": {
      "model_module": "@jupyter-widgets/base",
      "model_module_version": "1.2.0",
      "model_name": "LayoutModel",
      "state": {
       "_model_module": "@jupyter-widgets/base",
       "_model_module_version": "1.2.0",
       "_model_name": "LayoutModel",
       "_view_count": null,
       "_view_module": "@jupyter-widgets/base",
       "_view_module_version": "1.2.0",
       "_view_name": "LayoutView",
       "align_content": null,
       "align_items": null,
       "align_self": null,
       "border": null,
       "bottom": null,
       "display": null,
       "flex": null,
       "flex_flow": null,
       "grid_area": null,
       "grid_auto_columns": null,
       "grid_auto_flow": null,
       "grid_auto_rows": null,
       "grid_column": null,
       "grid_gap": null,
       "grid_row": null,
       "grid_template_areas": null,
       "grid_template_columns": null,
       "grid_template_rows": null,
       "height": "460px",
       "justify_content": null,
       "justify_items": null,
       "left": null,
       "margin": null,
       "max_height": null,
       "max_width": null,
       "min_height": null,
       "min_width": null,
       "object_fit": null,
       "object_position": null,
       "order": null,
       "overflow": null,
       "overflow_x": null,
       "overflow_y": null,
       "padding": null,
       "right": null,
       "top": null,
       "visibility": null,
       "width": "300px"
      }
     },
     "e592a20bc6fe4dd38ebfb107c40706d5": {
      "model_module": "@jupyter-widgets/base",
      "model_module_version": "1.2.0",
      "model_name": "LayoutModel",
      "state": {
       "_model_module": "@jupyter-widgets/base",
       "_model_module_version": "1.2.0",
       "_model_name": "LayoutModel",
       "_view_count": null,
       "_view_module": "@jupyter-widgets/base",
       "_view_module_version": "1.2.0",
       "_view_name": "LayoutView",
       "align_content": null,
       "align_items": null,
       "align_self": null,
       "border": null,
       "bottom": null,
       "display": null,
       "flex": null,
       "flex_flow": null,
       "grid_area": null,
       "grid_auto_columns": null,
       "grid_auto_flow": null,
       "grid_auto_rows": null,
       "grid_column": null,
       "grid_gap": null,
       "grid_row": null,
       "grid_template_areas": null,
       "grid_template_columns": null,
       "grid_template_rows": null,
       "height": null,
       "justify_content": null,
       "justify_items": null,
       "left": null,
       "margin": null,
       "max_height": null,
       "max_width": null,
       "min_height": null,
       "min_width": null,
       "object_fit": null,
       "object_position": null,
       "order": null,
       "overflow": null,
       "overflow_x": null,
       "overflow_y": null,
       "padding": null,
       "right": null,
       "top": null,
       "visibility": null,
       "width": null
      }
     },
     "e77133bcd72248349272474682b5bda3": {
      "model_module": "@jupyter-widgets/base",
      "model_module_version": "1.2.0",
      "model_name": "LayoutModel",
      "state": {
       "_model_module": "@jupyter-widgets/base",
       "_model_module_version": "1.2.0",
       "_model_name": "LayoutModel",
       "_view_count": null,
       "_view_module": "@jupyter-widgets/base",
       "_view_module_version": "1.2.0",
       "_view_name": "LayoutView",
       "align_content": null,
       "align_items": null,
       "align_self": null,
       "border": null,
       "bottom": null,
       "display": null,
       "flex": null,
       "flex_flow": null,
       "grid_area": null,
       "grid_auto_columns": null,
       "grid_auto_flow": null,
       "grid_auto_rows": null,
       "grid_column": null,
       "grid_gap": null,
       "grid_row": null,
       "grid_template_areas": null,
       "grid_template_columns": null,
       "grid_template_rows": null,
       "height": null,
       "justify_content": null,
       "justify_items": null,
       "left": null,
       "margin": null,
       "max_height": null,
       "max_width": null,
       "min_height": null,
       "min_width": null,
       "object_fit": null,
       "object_position": null,
       "order": null,
       "overflow": null,
       "overflow_x": null,
       "overflow_y": null,
       "padding": null,
       "right": null,
       "top": null,
       "visibility": null,
       "width": null
      }
     },
     "fad4b90528354255987bd0216d4561d3": {
      "model_module": "@jupyter-widgets/output",
      "model_module_version": "1.0.0",
      "model_name": "OutputModel",
      "state": {
       "_dom_classes": [],
       "_model_module": "@jupyter-widgets/output",
       "_model_module_version": "1.0.0",
       "_model_name": "OutputModel",
       "_view_count": null,
       "_view_module": "@jupyter-widgets/output",
       "_view_module_version": "1.0.0",
       "_view_name": "OutputView",
       "layout": "IPY_MODEL_af031c53b19b44c0927574089f268f36",
       "msg_id": "",
       "outputs": [
        {
         "data": {
          "image/png": "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\n",
          "text/plain": "<Figure size 640x480 with 1 Axes>"
         },
         "metadata": {},
         "output_type": "display_data"
        }
       ]
      }
     }
    },
    "version_major": 2,
    "version_minor": 0
   }
  }
 },
 "nbformat": 4,
 "nbformat_minor": 5
}